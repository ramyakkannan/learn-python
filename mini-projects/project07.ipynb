{
 "cells": [
  {
   "cell_type": "code",
   "execution_count": 10,
   "id": "06a66352",
   "metadata": {},
   "outputs": [],
   "source": [
    "import random"
   ]
  },
  {
   "cell_type": "code",
   "execution_count": 11,
   "id": "2116fa83",
   "metadata": {},
   "outputs": [
    {
     "data": {
      "text/plain": [
       "('x', 'o')"
      ]
     },
     "execution_count": 11,
     "metadata": {},
     "output_type": "execute_result"
    }
   ],
   "source": [
    "X = \"x\"\n",
    "O = \"o\"\n",
    "\n",
    "choices_emoji = {X: \"❌\", O: \"⭕\"}\n",
    "choices = tuple(choices_emoji.keys())\n",
    "\n",
    "cchoose = random.choice(choices)\n",
    "choices"
   ]
  },
  {
   "cell_type": "code",
   "execution_count": 12,
   "id": "1f4f0a7d",
   "metadata": {},
   "outputs": [],
   "source": [
    "while True:\n",
    "    uchoose = input(\"choose x or o : \").lower()\n",
    "    if len(uchoose) != 1 or uchoose not in choices:\n",
    "        continue\n",
    "    else:\n",
    "        break"
   ]
  },
  {
   "cell_type": "code",
   "execution_count": 13,
   "id": "db3dc704",
   "metadata": {},
   "outputs": [
    {
     "name": "stdout",
     "output_type": "stream",
     "text": [
      "You chose  ❌  And computer choose  ❌\n"
     ]
    }
   ],
   "source": [
    "print(\"You chose \", choices_emoji[uchoose],\n",
    "      \" And computer choose \", choices_emoji[cchoose])"
   ]
  },
  {
   "cell_type": "code",
   "execution_count": null,
   "id": "7c0cf9d2",
   "metadata": {},
   "outputs": [],
   "source": []
  }
 ],
 "metadata": {
  "kernelspec": {
   "display_name": ".venv",
   "language": "python",
   "name": "python3"
  },
  "language_info": {
   "codemirror_mode": {
    "name": "ipython",
    "version": 3
   },
   "file_extension": ".py",
   "mimetype": "text/x-python",
   "name": "python",
   "nbconvert_exporter": "python",
   "pygments_lexer": "ipython3",
   "version": "3.13.7"
  }
 },
 "nbformat": 4,
 "nbformat_minor": 5
}
